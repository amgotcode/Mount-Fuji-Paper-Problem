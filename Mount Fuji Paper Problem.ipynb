{
 "cells": [
  {
   "cell_type": "code",
   "execution_count": 2,
   "id": "a8a63f4c-43a8-42ae-8227-593b1504dce4",
   "metadata": {},
   "outputs": [
    {
     "name": "stdout",
     "output_type": "stream",
     "text": [
      "The number of folds needed to exceed Mount Fuji height is 27\n"
     ]
    }
   ],
   "source": [
    "# Problem 1\n",
    "\n",
    "HEIGHT = 3776\n",
    "THICKNESS = 0.00008 # Initial paper thickness\n",
    "paper_thickness = 0\n",
    "i=0 #number of folds\n",
    "\n",
    "while (paper_thickness < HEIGHT) :\n",
    "    paper_thickness = THICKNESS *2**i\n",
    "    i += 1\n",
    "\n",
    "print (\"The number of folds needed to exceed Mount Fuji height is {}\".format(i,paper_thickness))"
   ]
  },
  {
   "cell_type": "code",
   "execution_count": 1,
   "id": "fb94a089-bbe0-4967-ae09-56588ebd88c1",
   "metadata": {},
   "outputs": [
    {
     "name": "stdout",
     "output_type": "stream",
     "text": [
      "The number of times needed to fold paper to reach 4.0175e+16 meters is 70\n"
     ]
    }
   ],
   "source": [
    "# Problem 2\n",
    "\n",
    "def num_folds (height): #function to get number of folds\n",
    "    paper_thickness = 0\n",
    "    THICKNESS = 0.00008\n",
    "    i = 0\n",
    "    while(paper_thickness < height ):\n",
    "        paper_thickness = THICKNESS*2**i\n",
    "        i += 1 \n",
    "    return i #It returns the number of folds\n",
    "\n",
    "height = 4.0175*10**16\n",
    "num_folds = num_folds(height)\n",
    "print (\"The number of times needed to fold paper to reach {} meters is {}\".format(height, num_folds))"
   ]
  },
  {
   "cell_type": "code",
   "execution_count": 3,
   "id": "8d77bf81-5424-4eb6-8b0e-dd97a1c1a6a4",
   "metadata": {},
   "outputs": [
    {
     "name": "stdout",
     "output_type": "stream",
     "text": [
      "Number of folds 27, length of paper 754585377082.664 meters to reach mount fuji with a height of 3776 meters\n",
      "Number of folds 44, length of paper 1.2963677776680917e+22 meters to reach the moon with a distance of 384400000.0 meters\n",
      "Number of folds 70, length of paper 5.838321440440139e+37 meters to reach centauri with a distance of 4.0175e+16 meters\n"
     ]
    }
   ],
   "source": [
    "# Problem 3\n",
    "import math\n",
    "\n",
    "def num_folds (height):\n",
    "    paper_thickness = 0\n",
    "    THICKNESS = 0.00008\n",
    "    i = 0\n",
    "    while(paper_thickness < height ):\n",
    "        paper_thickness = THICKNESS*2**i\n",
    "        i += 1\n",
    "    return i\n",
    "\n",
    "def paper_length (height): #Gives us length to reach our desired height\n",
    "    \n",
    "    n = num_folds(height) #n receives number of folds\n",
    "    THICKNESS = 0.00008\n",
    "    L = ((math.pi * THICKNESS)/6) * (2 ** n + 4) * (2 ** n - 1)\n",
    "    \n",
    "    return n, L #It returns number of folds and and length of papaer\n",
    "\n",
    "height_fuji = 3776\n",
    "distance_moon = 3.844* (10**8)\n",
    "distance_star = 4.0175*(10**16)\n",
    "\n",
    "num_folds_fuji ,length_of_paper_fuji = paper_length(height_fuji)\n",
    "num_folds_moon ,length_of_paper_moon = paper_length(distance_moon)\n",
    "num_folds_star ,length_of_paper_star = paper_length(distance_star)\n",
    "\n",
    "print (\"Number of folds {}, length of paper {} meters to reach mount fuji with a height of {} meters\".format(num_folds_fuji,length_of_paper_fuji,height_fuji))\n",
    "print (\"Number of folds {}, length of paper {} meters to reach the moon with a distance of {} meters\".format(num_folds_moon,length_of_paper_moon,distance_moon))\n",
    "print (\"Number of folds {}, length of paper {} meters to reach centauri with a distance of {} meters\".format(num_folds_star,length_of_paper_star,distance_star))\n",
    "\n",
    "\n",
    "    \n"
   ]
  },
  {
   "cell_type": "code",
   "execution_count": null,
   "id": "a26a25dc-4b76-4f29-beeb-4586eb5edc38",
   "metadata": {},
   "outputs": [],
   "source": []
  }
 ],
 "metadata": {
  "kernelspec": {
   "display_name": "Python 3 (ipykernel)",
   "language": "python",
   "name": "python3"
  },
  "language_info": {
   "codemirror_mode": {
    "name": "ipython",
    "version": 3
   },
   "file_extension": ".py",
   "mimetype": "text/x-python",
   "name": "python",
   "nbconvert_exporter": "python",
   "pygments_lexer": "ipython3",
   "version": "3.12.7"
  }
 },
 "nbformat": 4,
 "nbformat_minor": 5
}
